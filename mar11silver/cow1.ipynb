{
 "cells": [
  {
   "cell_type": "code",
   "execution_count": 2,
   "metadata": {
    "collapsed": true
   },
   "outputs": [],
   "source": [
    "def read(filename):\n",
    "    f = open(filename + '.in', 'r')\n",
    "    lines = f.readlines()\n",
    "    f.close()\n",
    "\n",
    "    return lines"
   ]
  },
  {
   "cell_type": "code",
   "execution_count": 3,
   "metadata": {
    "collapsed": true
   },
   "outputs": [],
   "source": [
    "def writeAnswer(filename, answer):\n",
    "    f = open(filename + '.out', 'w')\n",
    "    f.write(str(answer))\n",
    "    f.close()"
   ]
  },
  {
   "cell_type": "code",
   "execution_count": 4,
   "metadata": {
    "collapsed": true
   },
   "outputs": [],
   "source": [
    "def sort(array):\n",
    "    less = []\n",
    "    equal = []\n",
    "    greater = []\n",
    "\n",
    "    if len(array) > 1:\n",
    "        pivot = array[0]\n",
    "        for x in array:\n",
    "            if x < pivot:\n",
    "                less.append(x)\n",
    "            if x == pivot:\n",
    "                equal.append(x)\n",
    "            if x > pivot:\n",
    "                greater.append(x)\n",
    "        return sort(less) + equal + sort(greater)\n",
    "    else:\n",
    "        return array"
   ]
  },
  {
   "cell_type": "code",
   "execution_count": 46,
   "metadata": {
    "collapsed": false
   },
   "outputs": [
    {
     "name": "stdout",
     "output_type": "stream",
     "text": [
      "10\n"
     ]
    }
   ],
   "source": [
    "lines = read('pairup')\n",
    "\n",
    "\n",
    "# init variables\n",
    "dataLength = int(lines[0].split(' ')[0])\n",
    "cows = []\n",
    "maxTime = 0 # minimize this\n",
    "\n",
    "\n",
    "\n",
    "for i in range(1, dataLength + 1):\n",
    "    cur = int(lines[i].split(' ')[1])\n",
    "    cows += [cur] * int(lines[i].split(' ')[0])\n",
    "pairs = len(cows)\n",
    "cows = sort(cows)\n",
    "\n",
    "\n",
    "# longest time could be center two or first and last\n",
    "maxTime = max(cows[pairs // 2 - 1] + cows[pairs // 2], cows[0] + cows[pairs - 1])\n",
    "\n",
    "\n",
    "print(maxTime)\n",
    "writeAnswer('pairup', maxTime)"
   ]
  },
  {
   "cell_type": "code",
   "execution_count": null,
   "metadata": {
    "collapsed": false
   },
   "outputs": [],
   "source": []
  },
  {
   "cell_type": "code",
   "execution_count": null,
   "metadata": {
    "collapsed": false
   },
   "outputs": [],
   "source": []
  }
 ],
 "metadata": {
  "kernelspec": {
   "display_name": "Python 3",
   "language": "python",
   "name": "python3"
  },
  "language_info": {
   "codemirror_mode": {
    "name": "ipython",
    "version": 3
   },
   "file_extension": ".py",
   "mimetype": "text/x-python",
   "name": "python",
   "nbconvert_exporter": "python",
   "pygments_lexer": "ipython3",
   "version": "3.6.0"
  }
 },
 "nbformat": 4,
 "nbformat_minor": 2
}
