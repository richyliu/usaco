{
 "cells": [
  {
   "cell_type": "code",
   "execution_count": 2,
   "metadata": {
    "collapsed": true
   },
   "outputs": [],
   "source": [
    "def read(filename):\n",
    "    f = open(filename + '.in', 'r')\n",
    "    lines = f.readlines()\n",
    "    f.close()\n",
    "\n",
    "    return lines"
   ]
  },
  {
   "cell_type": "code",
   "execution_count": 3,
   "metadata": {
    "collapsed": true
   },
   "outputs": [],
   "source": [
    "def writeAnswer(filename, answer):\n",
    "    f = open(filename + '.out', 'w')\n",
    "    f.write(str(answer))\n",
    "    f.close()"
   ]
  },
  {
   "cell_type": "code",
   "execution_count": 4,
   "metadata": {
    "collapsed": true
   },
   "outputs": [],
   "source": [
    "def sort(array):\n",
    "    less = []\n",
    "    equal = []\n",
    "    greater = []\n",
    "\n",
    "    if len(array) > 1:\n",
    "        pivot = array[0]\n",
    "        for x in array:\n",
    "            if x < pivot:\n",
    "                less.append(x)\n",
    "            if x == pivot:\n",
    "                equal.append(x)\n",
    "            if x > pivot:\n",
    "                greater.append(x)\n",
    "        return sort(less) + equal + sort(greater)\n",
    "    else:\n",
    "        return array"
   ]
  },
  {
   "cell_type": "code",
   "execution_count": 12,
   "metadata": {
    "collapsed": false
   },
   "outputs": [
    {
     "name": "stdout",
     "output_type": "stream",
     "text": [
      "[['A', 'G'], ['A', 'G'], ['T'], ['C', 'T'], ['C', 'G'], ['C'], ['A'], ['T', 'A']]\n",
      "[['A'], ['C'], ['T'], ['C', 'T'], ['C', 'G'], ['C'], ['A'], ['G', 'T']]\n"
     ]
    }
   ],
   "source": [
    "\n",
    "\n",
    "lines = read('cownomics')\n",
    "\n",
    "numlines = int(lines[0].split(' ')[0])\n",
    "numPos = int(lines[0].split(' ')[1])\n",
    "spotty = []\n",
    "plain = []\n",
    "\n",
    "\n",
    "# loop through spotty positions\n",
    "for i in range(numPos):\n",
    "    genome = []\n",
    "    for j in range(1, numlines + 1):\n",
    "        if lines[j][i] == 'A' and 'A' not in genome:\n",
    "            genome.append('A')\n",
    "        elif lines[j][i] == 'C' and 'C' not in genome:\n",
    "            genome.append('C')\n",
    "        elif lines[j][i] == 'G' and 'G' not in genome:\n",
    "            genome.append('G')\n",
    "        elif lines[j][i] == 'T' and 'T' not in genome:\n",
    "            genome.append('T')\n",
    "    \n",
    "    spotty.append(genome)\n",
    "\n",
    "\n",
    "# loop through plain positions\n",
    "for i in range(numPos):\n",
    "    genome = []\n",
    "    for j in range(numlines + 1, numlines * 2 + 1):\n",
    "        if lines[j][i] == 'A' and 'A' not in genome:\n",
    "            genome.append('A')\n",
    "        elif lines[j][i] == 'C' and 'C' not in genome:\n",
    "            genome.append('C')\n",
    "        elif lines[j][i] == 'G' and 'G' not in genome:\n",
    "            genome.append('G')\n",
    "        elif lines[j][i] == 'T' and 'T' not in genome:\n",
    "            genome.append('T')\n",
    "    \n",
    "    plain.append(genome)\n",
    "\n",
    "\n",
    "print(spotty)\n",
    "print(plain)"
   ]
  }
 ],
 "metadata": {
  "kernelspec": {
   "display_name": "Python 3",
   "language": "python",
   "name": "python3"
  },
  "language_info": {
   "codemirror_mode": {
    "name": "ipython",
    "version": 3
   },
   "file_extension": ".py",
   "mimetype": "text/x-python",
   "name": "python",
   "nbconvert_exporter": "python",
   "pygments_lexer": "ipython3",
   "version": "3.6.0"
  }
 },
 "nbformat": 4,
 "nbformat_minor": 2
}
