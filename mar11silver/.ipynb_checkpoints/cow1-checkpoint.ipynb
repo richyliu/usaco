{
 "cells": [
  {
   "cell_type": "code",
   "execution_count": 2,
   "metadata": {
    "collapsed": true
   },
   "outputs": [],
   "source": [
    "def read(filename):\n",
    "    f = open(filename + '.in', 'r')\n",
    "    lines = f.readlines()\n",
    "    f.close()\n",
    "\n",
    "    return lines"
   ]
  },
  {
   "cell_type": "code",
   "execution_count": 3,
   "metadata": {
    "collapsed": true
   },
   "outputs": [],
   "source": [
    "def writeAnswer(filename, answer):\n",
    "    f = open(filename + '.out', 'w')\n",
    "    f.write(str(answer))\n",
    "    f.close()"
   ]
  },
  {
   "cell_type": "code",
   "execution_count": 4,
   "metadata": {
    "collapsed": true
   },
   "outputs": [],
   "source": [
    "def sort(array):\n",
    "    less = []\n",
    "    equal = []\n",
    "    greater = []\n",
    "\n",
    "    if len(array) > 1:\n",
    "        pivot = array[0]\n",
    "        for x in array:\n",
    "            if x < pivot:\n",
    "                less.append(x)\n",
    "            if x == pivot:\n",
    "                equal.append(x)\n",
    "            if x > pivot:\n",
    "                greater.append(x)\n",
    "        return sort(less) + equal + sort(greater)\n",
    "    else:\n",
    "        return array"
   ]
  },
  {
   "cell_type": "code",
   "execution_count": 101,
   "metadata": {
    "collapsed": false
   },
   "outputs": [],
   "source": [
    "def select(L):\n",
    "    if len(L) < 10:\n",
    "        L.sort()\n",
    "        return L[int(len(L)/2)]\n",
    "    S = []\n",
    "    lIndex = 0\n",
    "    while lIndex+5 < len(L)-1:\n",
    "        S.append(L[lIndex:lIndex+5])\n",
    "        lIndex += 5\n",
    "    S.append(L[lIndex:])\n",
    "    Meds = []\n",
    "    for subList in S:\n",
    "        print(subList)\n",
    "        Meds.append(select(subList))\n",
    "    L2 = select(Meds)\n",
    "    L1 = L3 = []\n",
    "    for i in L:\n",
    "        if i < L2:\n",
    "            L1.append(i)\n",
    "        if i > L2:\n",
    "            L3.append(i)\n",
    "    if len(L) < len(L1):\n",
    "        return select(L1)\n",
    "    elif len(L) > len(L1) + 1:\n",
    "        return select(L3)\n",
    "    else:\n",
    "        return L2"
   ]
  },
  {
   "cell_type": "code",
   "execution_count": 102,
   "metadata": {
    "collapsed": false
   },
   "outputs": [
    {
     "name": "stdout",
     "output_type": "stream",
     "text": [
      "16\n"
     ]
    }
   ],
   "source": [
    "lines = read('pairup')\n",
    "\n",
    "\n",
    "# init variables\n",
    "dataLength = int(lines[0].split(' ')[0])\n",
    "cows = []\n",
    "maxTime = 0 # minimize this\n",
    "\n",
    "\n",
    "smallest = 1e9\n",
    "largest = 0\n",
    "for i in range(1, dataLength + 1):\n",
    "    curLine = lines[i].split(' ')\n",
    "    cur = int(curLine[1])\n",
    "    cows += [cur] * int(curLine[0])\n",
    "    \n",
    "    if cur < smallest:\n",
    "        smallest = cur\n",
    "    if cur > largest:\n",
    "        largest = cur\n",
    "\n",
    "\n",
    "# longest time could be center two or first and last\n",
    "maxTime = max(select(cows) + select(cows[:-1]), cows[0] + cows[len(cows) - 1])\n",
    "\n",
    "\n",
    "print(maxTime)\n",
    "writeAnswer('pairup', maxTime)"
   ]
  }
 ],
 "metadata": {
  "kernelspec": {
   "display_name": "Python 3",
   "language": "python",
   "name": "python3"
  },
  "language_info": {
   "codemirror_mode": {
    "name": "ipython",
    "version": 3
   },
   "file_extension": ".py",
   "mimetype": "text/x-python",
   "name": "python",
   "nbconvert_exporter": "python",
   "pygments_lexer": "ipython3",
   "version": "3.6.0"
  }
 },
 "nbformat": 4,
 "nbformat_minor": 2
}
